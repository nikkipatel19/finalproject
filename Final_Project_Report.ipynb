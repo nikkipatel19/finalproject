{
 "cells": [
  {
   "cell_type": "markdown",
   "metadata": {},
   "source": [
    "# Title: BERT: Pre-training of Deep Bidirectional Transformers for Language Understanding\n",
    "\n",
    "### Group Member Names : Dev Patel , Niki Patel \n",
    "\n"
   ]
  },
  {
   "cell_type": "markdown",
   "metadata": {},
   "source": [
    "### INTRODUCTION:\n",
    "*********************************************************************************************************************\n",
    "#### AIM : \n",
    "Assess the efficiency of the approach outlined in the paper \"BERT: Pre-training of Deep Bidirectional Transformers for Language Understanding\" through the examination of accuracy as a metric of performance.\n",
    "*********************************************************************************************************************\n",
    "#### Github Repo: \n",
    "https://github.com/VikasSingh-DS/Movies-Reviews-Bert-Sentiment-Flask-API\n",
    "*********************************************************************************************************************\n",
    "#### DESCRIPTION OF PAPER:\n",
    "The study presents BERT, a novel language comprehension model known as Bidirectional Encoder Representations from Transformers. BERT's distinctiveness arises from its bidirectional training strategy, allowing it to understand sentence context from both ends. By undergoing pre-training using extensive text datasets, BERT gains sophisticated word representations, resulting in notable performance across various tasks like sentiment analysis and question answering. Its accomplishments redefine the forefront of natural language processing and understanding.\n",
    "*********************************************************************************************************************\n",
    "#### PROBLEM STATEMENT :\n",
    "* Attempt to achieve analogous results as reported in the paper by implementing the same strategies on the IMDb dataset.\n",
    "* Datasets used here :\n",
    "1) IMDB_review - https://www.kaggle.com/datasets/lakshmi25npathi/imdb-dataset-of-50k-movie reviews\n",
    "2) Finance_news - https://www.kaggle.com/datasets/ankurzing/sentiment-analysis-for-financial-news\n",
    "\n",
    "* Finding accuracy using BERT and LinearSVM on above mentioned datasets and concluding the result.\n",
    "*********************************************************************************************************************\n",
    "#### CONTEXT OF THE PROBLEM:\n",
    "\n",
    "* Traditional language models, like RNNs and early transformer models, operated in a unidirectional manner.\n",
    "These models processed text from left to right or right to left, focusing on one direction only\n",
    "* This unidirectional approach posed challenges in capturing comprehensive contextual relationships between words. \n",
    "Models could not fully comprehend intricate linguistic nuances and word interactions.* Nuanced language elements, such as idiomatic expressions, were difficult for these models to interpret accurately.\n",
    "* \n",
    "Complex sentence structures and dependencies were often not well understood due to the one-sided context.\n",
    ".\n",
    "*********************************************************************************************************************\n",
    "#### SOLUTION:\n",
    "* BERT (Bidirectional Encoder Representations from Transformers) was introduced to address these limitations. It utilized a bidirectional training approach, considering both left and right context for each word.\n",
    "* BERT's bidirectional training allowed it to capture intricate word relationships, idiomatic expressions, and contextual nuances effectively.:\n",
    "* \n"
   ]
  },
  {
   "cell_type": "markdown",
   "metadata": {},
   "source": [
    "# Background\n",
    "*********************************************************************************************************************\n",
    "\n",
    "### Unsupervised Feature-based Approaches\n",
    "\n",
    "|Reference|Explanation|Weakness|\n",
    "|------|------|------|\n",
    " Brown et al., 1992; Ando and Zhang, 2005; Blitzer et al., 2006 |  Learning representations of words using non-neural methods. |Limited in capturing complex contextual information.\n",
    " Mikolov et al., 2013; Pennington et al., 2014 |  Learning representations using neural methods, including word embeddings.|  Initial embeddings might not capture deep contextual understanding.\n",
    " Peters et al., 2017, 2018a |  ELMo introduces contextual features from left-to-right and right-to-left language models.| Feature-based, not deeply bidirectional.\n",
    "\n",
    "### Unsupervised Fine-tuning Approaches\n",
    "\n",
    "|Reference|Explanation|Weakness|\n",
    "|------|------|------|\n",
    "Dai and Le, 2015; Howard and Ruder, 2018; Radford et al., 2018 | Pre-training contextual token representations and fine-tuning for downstream tasks. |Dependency on pre-training quality, model size, and availability of labeled data.\n",
    "\n",
    "### Transfer Learning from Supervised Data\n",
    "\n",
    "|Reference|Explanation|Weakness|\n",
    "|------|------|------|\n",
    "Conneau et al., 2017; McCann et al., 2017 | Effective transfer from tasks with large supervised datasets. |Success depends on task similarity and data availability.\n",
    "*********************************************************************************************************************\n",
    "\n",
    "\n",
    "\n",
    "\n"
   ]
  },
  {
   "cell_type": "markdown",
   "metadata": {},
   "source": [
    "# Methodology\n",
    "### Basic Details of BERT :\n",
    "- BERT employs a transformer-based neural network architecture designed for understanding language.\n",
    "- Unlike traditional models, BERT captures context from both preceding and succeeding words in a sentence.\n",
    "- BERT is pre-trained using two objectives: Masked Language Model (MLM) and Next Sentence Prediction (NSP).\n",
    "- After pre-training, BERT fine-tunes for tasks by incorporating task-specific layers and parameter adjustments. It leverages special tokens([CLS] and [SEP]) for sequence context and shares knowledge by reusing pre-trained parameters across diverse tasks.\n",
    "- BERT's adaptability spans text and other data tasks, while its ensemble approach combines fine-tuned model predictions via majority voting, bolstering overall performance."
   ]
  },
  {
   "cell_type": "markdown",
   "metadata": {},
   "source": [
    "# Implement paper code :\n",
    "*********************************************************************************************************************\n",
    "## Importing Packages"
   ]
  },
  {
   "cell_type": "code",
   "execution_count": 1,
   "metadata": {
    "_cell_guid": "b1076dfc-b9ad-4769-8c92-a6c4dae69d19",
    "_uuid": "8f2839f25d086af736a60e9eeb907d3b93b6e0e5"
   },
   "outputs": [],
   "source": [
    "import numpy as np\n",
    "import pandas as pd\n",
    "import matplotlib.pyplot as plt\n",
    "%matplotlib inline\n",
    "plt.style.use('fivethirtyeight')\n",
    "import seaborn as sns\n",
    "import os\n",
    "import transformers\n",
    "import torch\n",
    "import torch.nn as nn\n",
    "from tqdm import tqdm\n",
    "from sklearn import model_selection\n",
    "from sklearn import metrics\n",
    "from transformers import AdamW\n",
    "from transformers import get_linear_schedule_with_warmup\n",
    "import logging\n",
    "logging.getLogger().setLevel(logging.NOTSET)"
   ]
  },
  {
   "cell_type": "markdown",
   "metadata": {},
   "source": [
    "# Configuration"
   ]
  },
  {
   "cell_type": "code",
   "execution_count": 2,
   "metadata": {
    "_cell_guid": "79c7e3d0-c299-4dcb-8224-4455121ee9b0",
    "_uuid": "d629ff2d2480ee46fbb7e2d37f6b5fab8052498a"
   },
   "outputs": [],
   "source": [
    "MAX_LEN = 512\n",
    "TRAIN_BATCH_SIZE = 8\n",
    "VALID_BATCH_SIZE = 4\n",
    "EPOCHS = 3\n",
    "BERT_PATH = \"../input/bert-base-uncased\"\n",
    "MODEL_PATH = \"model.bin\"\n",
    "TRAINING_FILE = \"../input/imdb-dataset-of-50k-movie-reviews/IMDB Dataset.csv\"\n",
    "TOKENIZER = transformers.BertTokenizer.from_pretrained(BERT_PATH, do_lower_case=True)"
   ]
  },
  {
   "cell_type": "markdown",
   "metadata": {},
   "source": [
    "# Data Exploration"
   ]
  },
  {
   "cell_type": "code",
   "execution_count": 3,
   "metadata": {},
   "outputs": [
    {
     "data": {
      "text/html": [
       "<div>\n",
       "<style scoped>\n",
       "    .dataframe tbody tr th:only-of-type {\n",
       "        vertical-align: middle;\n",
       "    }\n",
       "\n",
       "    .dataframe tbody tr th {\n",
       "        vertical-align: top;\n",
       "    }\n",
       "\n",
       "    .dataframe thead th {\n",
       "        text-align: right;\n",
       "    }\n",
       "</style>\n",
       "<table border=\"1\" class=\"dataframe\">\n",
       "  <thead>\n",
       "    <tr style=\"text-align: right;\">\n",
       "      <th></th>\n",
       "      <th>review</th>\n",
       "      <th>sentiment</th>\n",
       "    </tr>\n",
       "  </thead>\n",
       "  <tbody>\n",
       "    <tr>\n",
       "      <th>0</th>\n",
       "      <td>One of the other reviewers has mentioned that ...</td>\n",
       "      <td>positive</td>\n",
       "    </tr>\n",
       "    <tr>\n",
       "      <th>1</th>\n",
       "      <td>A wonderful little production. &lt;br /&gt;&lt;br /&gt;The...</td>\n",
       "      <td>positive</td>\n",
       "    </tr>\n",
       "    <tr>\n",
       "      <th>2</th>\n",
       "      <td>I thought this was a wonderful way to spend ti...</td>\n",
       "      <td>positive</td>\n",
       "    </tr>\n",
       "    <tr>\n",
       "      <th>3</th>\n",
       "      <td>Basically there's a family where a little boy ...</td>\n",
       "      <td>negative</td>\n",
       "    </tr>\n",
       "    <tr>\n",
       "      <th>4</th>\n",
       "      <td>Petter Mattei's \"Love in the Time of Money\" is...</td>\n",
       "      <td>positive</td>\n",
       "    </tr>\n",
       "  </tbody>\n",
       "</table>\n",
       "</div>"
      ],
      "text/plain": [
       "                                              review sentiment\n",
       "0  One of the other reviewers has mentioned that ...  positive\n",
       "1  A wonderful little production. <br /><br />The...  positive\n",
       "2  I thought this was a wonderful way to spend ti...  positive\n",
       "3  Basically there's a family where a little boy ...  negative\n",
       "4  Petter Mattei's \"Love in the Time of Money\" is...  positive"
      ]
     },
     "execution_count": 3,
     "metadata": {},
     "output_type": "execute_result"
    }
   ],
   "source": [
    "\"\"\"Reading dataset\"\"\"\n",
    "df = pd.read_csv(TRAINING_FILE)\n",
    "df.head()"
   ]
  },
  {
   "cell_type": "code",
   "execution_count": 4,
   "metadata": {},
   "outputs": [
    {
     "name": "stdout",
     "output_type": "stream",
     "text": [
      "Shape of the dataset (50000, 2)\n",
      "Missing values\n",
      "review       0\n",
      "sentiment    0\n",
      "dtype: int64\n"
     ]
    }
   ],
   "source": [
    "\"Data Dresription\"\n",
    "print('Shape of the dataset', df.shape)\n",
    "print('Missing values')\n",
    "print(df.isnull().sum())"
   ]
  },
  {
   "cell_type": "code",
   "execution_count": 5,
   "metadata": {},
   "outputs": [
    {
     "data": {
      "image/png": "[encoded data removed]",
      "text/plain": [
       "<Figure size 432x288 with 1 Axes>"
      ]
     },
     "metadata": {},
     "output_type": "display_data"
    }
   ],
   "source": [
    "\"\"\"Distribution of target variable\"\"\"\n",
    "temp = df[\"sentiment\"].value_counts()\n",
    "sns.barplot(temp.index, temp)\n",
    "plt.show()"
   ]
  },
  {
   "cell_type": "markdown",
   "metadata": {},
   "source": [
    "Target distribution is perfectly balanced."
   ]
  },
  {
   "cell_type": "code",
   "execution_count": 6,
   "metadata": {},
   "outputs": [
    {
     "data": {
      "image/png": "[encoded data removed]",
      "text/plain": [
       "<Figure size 2000x800 with 2 Axes>"
      ]
     },
     "metadata": {},
     "output_type": "display_data"
    }
   ],
   "source": [
    "'''Plot sentence lenght'''\n",
    "fig,(ax1,ax2)= plt.subplots(ncols=2, figsize=(20, 8), dpi=100)\n",
    "num=df[df[\"sentiment\"]=='positive']['review'].str.split().map(lambda x: len(x))\n",
    "ax1.hist(num,bins = 40,color='orangered')\n",
    "ax1.set_title('Positive')\n",
    "ax1.set_xlabel('Lenght of reviews')\n",
    "num=df[df[\"sentiment\"]=='negative']['review'].str.split().map(lambda x: len(x))\n",
    "ax2.hist(num,bins = 40)\n",
    "ax2.set_title('Negative')\n",
    "ax2.set_xlabel('Lenght of reviews')\n",
    "ax1.set_ylabel('Lenght of reviews')\n",
    "plt.show()"
   ]
  },
  {
   "cell_type": "markdown",
   "metadata": {},
   "source": [
    "# Build and Train the Model"
   ]
  },
  {
   "cell_type": "code",
   "execution_count": 7,
   "metadata": {},
   "outputs": [],
   "source": [
    "class BERTDataset:\n",
    "    '''\n",
    "    We are required to give it a number of pieces of information which seem redundant, \n",
    "    or like they could easily be inferred from the data without us explicity providing it.\n",
    "    This class prepare the dataset or input format to BERT modeling.\n",
    "    '''\n",
    "    def __init__(self, review, target):\n",
    "        self.review = review\n",
    "        self.target = target\n",
    "        self.tokenizer = TOKENIZER\n",
    "        self.max_len = MAX_LEN\n",
    "    \n",
    "    def __len__(self):\n",
    "        return len(self.review)\n",
    "    \n",
    "    def __getitem__(self, item):\n",
    "        review = str(self.review[item])\n",
    "        review = \" \".join(review.split())\n",
    "\n",
    "        inputs = self.tokenizer.encode_plus(\n",
    "            review,                         # sentence to encode\n",
    "            None,\n",
    "            add_special_tokens=True,        # add '[CLS]' and '[SEP]'\n",
    "            max_length=self.max_len,        # pad & truncate all sentences.\n",
    "            pad_to_max_length=True\n",
    "        )\n",
    "        \n",
    "        # Map the tokens to thier word ids, mask and attention_mask\n",
    "        ids = inputs[\"input_ids\"]\n",
    "        mask = inputs[\"attention_mask\"]\n",
    "        token_type_ids = inputs[\"token_type_ids\"]\n",
    "        \n",
    "        # Return pytorch tensors\n",
    "        return {\n",
    "            'ids': torch.tensor(ids, dtype=torch.long),\n",
    "            'mask': torch.tensor(mask, dtype=torch.long),\n",
    "            'token_type_ids': torch.tensor(token_type_ids, dtype=torch.long),\n",
    "            'targets': torch.tensor(self.target[item], dtype=torch.float)\n",
    "        }"
   ]
  },
  {
   "cell_type": "code",
   "execution_count": 8,
   "metadata": {},
   "outputs": [],
   "source": [
    "class BERTBaseUncased(nn.Module):\n",
    "    '''\n",
    "    we'll be using BERT Model. This class we feed the bert input data, the entire pre-trained\n",
    "    BERT model and the additional untrained classification layer is trained on our specific task.\n",
    "    '''\n",
    "    def __init__(self):\n",
    "        super(BERTBaseUncased, self).__init__()\n",
    "        self.bert = transformers.BertModel.from_pretrained(BERT_PATH)\n",
    "        self.bert_drop = nn.Dropout(0.3)    # define the dropout\n",
    "        self.out = nn.Linear(768, 1)        # fully connected linear layer\n",
    "\n",
    "    def forward(self, ids, mask, token_type_ids):\n",
    "        # Perform a forward pass. Feeding the inputs in the bert model\n",
    "        _, o2 = self.bert(ids, attention_mask=mask, token_type_ids=token_type_ids)\n",
    "        bo = self.bert_drop(o2)     # performing dropout on  output vector\n",
    "        output = self.out(bo)       # performing fully connected linear layer on output vector\n",
    "        return output \n"
   ]
  },
  {
   "cell_type": "code",
   "execution_count": 9,
   "metadata": {},
   "outputs": [],
   "source": [
    "total_train_loss = 0\n",
    "total_eval_loss = 0\n",
    "\n",
    "# define the binary_cross_entropy loss function\n",
    "def loss_fn(outputs, targets):\n",
    "    return nn.BCEWithLogitsLoss()(outputs, targets.view(-1, 1))\n",
    "\n",
    "# define the trainging function\n",
    "def train_fn(data_loader, model, optimizer, device, scheduler):\n",
    "    global total_train_loss \n",
    "    \n",
    "    # Set the model to training mode\n",
    "    model.train()\n",
    "    # trange is a tqdm wrapper around the normal python range\n",
    "    for bi, d in tqdm(enumerate(data_loader), total=len(data_loader)):\n",
    "         # Unpack training batch from our dataloader.\n",
    "        ids = d[\"ids\"]\n",
    "        token_type_ids = d[\"token_type_ids\"]\n",
    "        mask = d[\"mask\"]\n",
    "        targets = d[\"targets\"]\n",
    "        \n",
    "        # copy each tensor to the GPU\n",
    "        ids = ids.to(device, dtype=torch.long)\n",
    "        token_type_ids = token_type_ids.to(device, dtype=torch.long)\n",
    "        mask = mask.to(device, dtype=torch.long)\n",
    "        targets = targets.to(device, dtype=torch.float)\n",
    "        \n",
    "        # clear any previously calculated gradients\n",
    "        optimizer.zero_grad()\n",
    "        # outputs prior to activation.\n",
    "        outputs = model(\n",
    "            ids=ids,\n",
    "            mask=mask,\n",
    "            token_type_ids=token_type_ids\n",
    "        )\n",
    "\n",
    "        loss = loss_fn(outputs, targets)    # Perform a loss funtion\n",
    "        total_train_loss += loss.item()     # Accumulate the training loss\n",
    "        loss.backward()                     # Perform a backward pass to calculate the gradients\n",
    "        optimizer.step()                    # Update parameters\n",
    "        scheduler.step()                    # Update the learning rate\n",
    "        \n",
    "        \n",
    "        \n",
    "        \n",
    "# define the validation function\n",
    "def eval_fn(data_loader, model, device):\n",
    "    global total_eval_loss\n",
    "    model.eval()            # Set the model to training mode\n",
    "    fin_targets = []        # target variable\n",
    "    fin_outputs = []        # ouput variable\n",
    "    \n",
    "    # Tell pytorch not to bother with constructing the compute graph during\n",
    "    # the forward pass, since this is only needed for backprop (training).\n",
    "    with torch.no_grad():\n",
    "        # trange is a tqdm wrapper around the normal python range\n",
    "        for bi, d in tqdm(enumerate(data_loader), total=len(data_loader)):\n",
    "            # Unpack validation batch from our dataloader.\n",
    "            ids = d[\"ids\"]\n",
    "            token_type_ids = d[\"token_type_ids\"]\n",
    "            mask = d[\"mask\"]\n",
    "            targets = d[\"targets\"]\n",
    "            \n",
    "            # copy each tensor to the GPU\n",
    "            ids = ids.to(device, dtype=torch.long)\n",
    "            token_type_ids = token_type_ids.to(device, dtype=torch.long)\n",
    "            mask = mask.to(device, dtype=torch.long)\n",
    "            targets = targets.to(device, dtype=torch.float)\n",
    "            \n",
    "            # outputs prior to activation.\n",
    "            outputs = model(\n",
    "                ids=ids,\n",
    "                mask=mask,\n",
    "                token_type_ids=token_type_ids\n",
    "            )\n",
    "            \n",
    "            loss = loss_fn(outputs, targets)        # Perform a loss funtion\n",
    "            total_eval_loss += loss.item()          # Accumulate the validation loss.\n",
    "            \n",
    "            # Move target and output to CPU\n",
    "            fin_targets.extend(targets.cpu().detach().numpy().tolist())\n",
    "            fin_outputs.extend(torch.sigmoid(outputs).cpu().detach().numpy().tolist())\n",
    "    return fin_outputs, fin_targets"
   ]
  },
  {
   "cell_type": "code",
   "execution_count": 10,
   "metadata": {},
   "outputs": [
    {
     "name": "stdout",
     "output_type": "stream",
     "text": [
      "The BERT model has 201 different named parameters.\n",
      "\n",
      "==== Embedding Layer ====\n",
      "\n",
      "bert.embeddings.word_embeddings.weight                  (30522, 768)\n",
      "bert.embeddings.position_embeddings.weight                (512, 768)\n",
      "bert.embeddings.token_type_embeddings.weight                (2, 768)\n",
      "bert.embeddings.LayerNorm.weight                              (768,)\n",
      "bert.embeddings.LayerNorm.bias                                (768,)\n",
      "\n",
      "==== First Transformer ====\n",
      "\n",
      "bert.encoder.layer.0.attention.self.query.weight          (768, 768)\n",
      "bert.encoder.layer.0.attention.self.query.bias                (768,)\n",
      "bert.encoder.layer.0.attention.self.key.weight            (768, 768)\n",
      "bert.encoder.layer.0.attention.self.key.bias                  (768,)\n",
      "bert.encoder.layer.0.attention.self.value.weight          (768, 768)\n",
      "bert.encoder.layer.0.attention.self.value.bias                (768,)\n",
      "bert.encoder.layer.0.attention.output.dense.weight        (768, 768)\n",
      "bert.encoder.layer.0.attention.output.dense.bias              (768,)\n",
      "bert.encoder.layer.0.attention.output.LayerNorm.weight        (768,)\n",
      "bert.encoder.layer.0.attention.output.LayerNorm.bias          (768,)\n",
      "bert.encoder.layer.0.intermediate.dense.weight           (3072, 768)\n",
      "bert.encoder.layer.0.intermediate.dense.bias                 (3072,)\n",
      "bert.encoder.layer.0.output.dense.weight                 (768, 3072)\n",
      "bert.encoder.layer.0.output.dense.bias                        (768,)\n",
      "bert.encoder.layer.0.output.LayerNorm.weight                  (768,)\n",
      "bert.encoder.layer.0.output.LayerNorm.bias                    (768,)\n",
      "\n",
      "==== Output Layer ====\n",
      "\n",
      "bert.pooler.dense.weight                                  (768, 768)\n",
      "bert.pooler.dense.bias                                        (768,)\n",
      "out.weight                                                  (1, 768)\n",
      "out.bias                                                        (1,)\n"
     ]
    }
   ],
   "source": [
    "device = torch.device(\"cuda\")     # define the device\n",
    "model = BERTBaseUncased()         # define the model\n",
    "model.to(device)                  # copy the model to the gpu\n",
    "\n",
    "# Get all of the model's parameters as a list of tuples.\n",
    "params = list(model.named_parameters())\n",
    "\n",
    "print('The BERT model has {:} different named parameters.\\n'.format(len(params)))\n",
    "\n",
    "print('==== Embedding Layer ====\\n')\n",
    "\n",
    "for p in params[0:5]:\n",
    "    print(\"{:<55} {:>12}\".format(p[0], str(tuple(p[1].size()))))\n",
    "\n",
    "print('\\n==== First Transformer ====\\n')\n",
    "\n",
    "for p in params[5:21]:\n",
    "    print(\"{:<55} {:>12}\".format(p[0], str(tuple(p[1].size()))))\n",
    "\n",
    "print('\\n==== Output Layer ====\\n')\n",
    "\n",
    "for p in params[-4:]:\n",
    "    print(\"{:<55} {:>12}\".format(p[0], str(tuple(p[1].size()))))\n",
    "    "
   ]
  },
  {
   "cell_type": "code",
   "execution_count": 11,
   "metadata": {},
   "outputs": [
    {
     "name": "stdout",
     "output_type": "stream",
     "text": [
      "==== Training And Validation ==== \n"
     ]
    },
    {
     "name": "stderr",
     "output_type": "stream",
     "text": [
      "100%|██████████| 5625/5625 [42:09<00:00,  2.22it/s]\n",
      "100%|██████████| 1250/1250 [01:38<00:00, 12.73it/s]\n"
     ]
    },
    {
     "name": "stdout",
     "output_type": "stream",
     "text": [
      "Validation Accuracy Score 0.9402\n"
     ]
    },
    {
     "name": "stderr",
     "output_type": "stream",
     "text": [
      "100%|██████████| 5625/5625 [42:04<00:00,  2.23it/s]\n",
      "100%|██████████| 1250/1250 [01:37<00:00, 12.88it/s]\n"
     ]
    },
    {
     "name": "stdout",
     "output_type": "stream",
     "text": [
      "Validation Accuracy Score 0.9434\n"
     ]
    },
    {
     "name": "stderr",
     "output_type": "stream",
     "text": [
      "100%|██████████| 5625/5625 [41:57<00:00,  2.23it/s]\n",
      "100%|██████████| 1250/1250 [01:36<00:00, 12.94it/s]\n"
     ]
    },
    {
     "name": "stdout",
     "output_type": "stream",
     "text": [
      "Validation Accuracy Score 0.9514\n"
     ]
    }
   ],
   "source": [
    " training_stats = []\n",
    "    \n",
    "# running script funtion\n",
    "def run():\n",
    "    print('==== Training And Validation ==== ')\n",
    "     # Load the dataset into a pandas dataframe.\n",
    "    dfx = pd.read_csv(TRAINING_FILE).fillna(\"none\")\n",
    "    dfx.sentiment = dfx.sentiment.apply(lambda x: 1 if x == \"positive\" else 0)\n",
    "    \n",
    "    # split up our traing set to use 90% for training and 10% for validation\n",
    "    df_train, df_valid = model_selection.train_test_split(\n",
    "        dfx, test_size=0.1, random_state=42, stratify=dfx.sentiment.values\n",
    "    )\n",
    "    \n",
    "    df_train = df_train.reset_index(drop=True)\n",
    "    df_valid = df_valid.reset_index(drop=True)\n",
    "    \n",
    "    # pass the sentence and target from training dataset into class\n",
    "    train_dataset = BERTDataset(\n",
    "        review=df_train.review.values, target=df_train.sentiment.values\n",
    "    )\n",
    "    \n",
    "    # Combine the training inputs into a TensorDataset.\n",
    "    train_data_loader = torch.utils.data.DataLoader(\n",
    "        train_dataset, batch_size=TRAIN_BATCH_SIZE, num_workers=4\n",
    "    )\n",
    "    \n",
    "    # pass the sentence and target from training dataset into class\n",
    "    valid_dataset = BERTDataset(\n",
    "        review=df_valid.review.values, target=df_valid.sentiment.values\n",
    "    )\n",
    "    \n",
    "    # Combine the training inputs into a TensorDataset.\n",
    "    valid_data_loader = torch.utils.data.DataLoader(\n",
    "        valid_dataset, batch_size=VALID_BATCH_SIZE, num_workers=4\n",
    "    )\n",
    "\n",
    "    \n",
    "    # Prepare optimizer and schedule (linear warmup and decay)\n",
    "    param_optimizer = list(model.named_parameters())\n",
    "    no_decay = [\"bias\", \"LayerNorm.bias\", \"LayerNorm.weight\"]\n",
    "    optimizer_parameters = [\n",
    "        {\n",
    "            \"params\": [\n",
    "                p for n,p in param_optimizer if not any(nd in n for nd in no_decay)\n",
    "            ],\n",
    "            \"weight_decay\": 0.01,\n",
    "        },\n",
    "        {\n",
    "            \"params\": [p for n,p in param_optimizer if any(nd in n for nd in no_decay)],\n",
    "            \"weight_decay\": 0.0,\n",
    "        },\n",
    "    ]\n",
    "    \n",
    "    # Create the numer of training steps, optimizer and scheduler\n",
    "    num_train_steps = int(len(df_train) / TRAIN_BATCH_SIZE * EPOCHS)\n",
    "    optimizer = AdamW(optimizer_parameters, lr=2e-5)\n",
    "    scheduler = get_linear_schedule_with_warmup(\n",
    "        optimizer,\n",
    "        num_warmup_steps=0,\n",
    "        num_training_steps=num_train_steps\n",
    "    )\n",
    "    \n",
    "    # running the loop for every epochs\n",
    "    # Tracking variables \n",
    "    best_accuracy = 0\n",
    "    for epoch in range(EPOCHS):\n",
    "        \n",
    "        # passing training and validation funtion\n",
    "        train_fn(train_data_loader, model, optimizer, device, scheduler)\n",
    "        outputs, targets = eval_fn(valid_data_loader, model, device)\n",
    "        outputs = np.array(outputs) >= 0.5\n",
    "        \n",
    "        # Calculate the average train loss\n",
    "        avg_train_loss = total_train_loss / len(train_data_loader)\n",
    "        \n",
    "        # Calculate the average valid loss\n",
    "        avg_val_loss = total_eval_loss / len(valid_data_loader)\n",
    "        \n",
    "        # Calculate the validation accuracy for test sentences\n",
    "        eval_accuracy = metrics.accuracy_score(targets, outputs)\n",
    "        \n",
    "        # Report the final accuracy for this validation run.\n",
    "        print(f\"Validation Accuracy Score {eval_accuracy}\")\n",
    "        \n",
    "        training_stats.append(\n",
    "            {\n",
    "                'epoch': epoch + 1,\n",
    "                'Training Loss': avg_train_loss,\n",
    "                'Valid. Loss': avg_val_loss,\n",
    "            }\n",
    "        )\n",
    "        \n",
    "        # saving the model\n",
    "        if eval_accuracy > best_accuracy:\n",
    "            torch.save(model.state_dict(), MODEL_PATH)\n",
    "            best_accuracy = eval_accuracy\n",
    "\n",
    "\n",
    "if __name__ == \"__main__\":\n",
    "    run()"
   ]
  },
  {
   "cell_type": "markdown",
   "metadata": {},
   "source": [
    "*********************************************************************************************************************\n",
    "### Contribution  Code :\n",
    "* Applied same methodology of BERT on finance data set and compared that output with Linear Support Vector Classifier.\n",
    "* Link of code for above : (https://github.com/nikkipatel19/finalproject/blob/main/sentiment-analysis-using-bert.ipynb)\n",
    "* Applied Linear Support Vector Classifier on IMDB_dataset as well as shown in (https://github.com/nikkipatel19/finalproject/blob/main/IMDB_Movie_Review.ipynb) which gave conclusion that bert gives rsult with more accuracy as compared to other model."
   ]
  },
  {
   "cell_type": "markdown",
   "metadata": {},
   "source": [
    "### Results :\n",
    "*******************************************************************************************************************************\n",
    "- After applying both methodology on two different dataset, BERT gave 95% accuracy while other gave 85% on IMDB_dataset.\n",
    "- Same for Finance_dataset, BERT outplayed other model where it gave 80% accuracy where other models (RandomForest, XGBoost) gave less than 70% accuracy.\n",
    "\n",
    "#### Observations :\n",
    "*******************************************************************************************************************************\n",
    "* After applying this technique on both the datasets, it is crstal clear that BERT can be helpfull significantly for getting output more accurately.\n"
   ]
  },
  {
   "cell_type": "markdown",
   "metadata": {},
   "source": [
    "### Conclusion and Future Direction :\n",
    "*******************************************************************************************************************************\n",
    "#### Learnings : \n",
    "While completing this project I learned about using Github and how to clone github repositories as well. Apart from this, I also learned applying prebuild models into code that decreases work need to get desired output. \n",
    "\n",
    "* Learned bout building a model and class through github code that gave me in-depth idea on making custom model.\n",
    "* Used transformers library to get pre-build model (Bert-base-uncased) and implemented it in the code.\n",
    "* Learnt how BERT works by reading data from both side and how it learns from preceding and succeeding words in a sentence.\n",
    "* Applying RandomForest and XGBoost classifier took almost 5+hours where using BERT decreased that time drasticslly\n",
    "*******************************************************************************************************************************\n",
    "#### Results Discussion :\n",
    "\n",
    "The main goal of comparing accuracy of BERT on various dataset was achieved where we applied various classifiers on IMDB_Dataset and Finance_dataset.\n",
    "\n",
    "- In both the datasets, the most satisfying and acceptable output was given by BERT since it took less time to give better result with greater accuracy.\n",
    "*******************************************************************************************************************************\n",
    "#### Limitations :\n",
    "#### Limitation of BERT :\n",
    "* Demands significant memory and computation resources.\n",
    "* \n",
    "Limited in capturing context beyond a fixed window.* \n",
    "Lacks true comprehension and common sense reasoning* .\n",
    "Transferability might not be optimal for all task* s.\n",
    "Vulnerable to context changes and adversarial attac* ks.\n",
    "Handles out-of-vocabulary words with subword units.\n",
    "\n",
    "**************************************************************************************************************************\n",
    "#### Future Extension :\n",
    "\n",
    "* Develop models that can capture even longer-range dependencies and more dynamic context in text, addressing BERT's fixed window limitation.\n",
    "* Extend models to effectively integrate and understand both text and visual data, enabling deeper comprehension of content that involves both modalities.\n",
    "* Enhance models to provide more transparent explanations for their predictions, addressing the \"black-box\" nature of deep learning models.on :\n"
   ]
  },
  {
   "cell_type": "code",
   "execution_count": null,
   "metadata": {},
   "outputs": [],
   "source": []
  }
 ],
 "metadata": {
  "kernelspec": {
   "display_name": "Python 3 (ipykernel)",
   "language": "python",
   "name": "python3"
  },
  "language_info": {
   "codemirror_mode": {
    "name": "ipython",
    "version": 3
   },
   "file_extension": ".py",
   "mimetype": "text/x-python",
   "name": "python",
   "nbconvert_exporter": "python",
   "pygments_lexer": "ipython3",
   "version": "3.10.9"
  }
 },
 "nbformat": 4,
 "nbformat_minor": 4
}
